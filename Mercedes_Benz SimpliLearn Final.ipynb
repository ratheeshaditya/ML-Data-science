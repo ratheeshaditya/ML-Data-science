{
  "nbformat": 4,
  "nbformat_minor": 0,
  "metadata": {
    "colab": {
      "name": "Mercedes Benz.ipynb",
      "provenance": []
    },
    "kernelspec": {
      "name": "python3",
      "display_name": "Python 3"
    }
  },
  "cells": [
    {
      "cell_type": "markdown",
      "metadata": {
        "id": "oOi9XKx_mDJJ"
      },
      "source": [
        "<h3>Project submitted by : Aditya Retissin Poozhiyil</h3>"
      ]
    },
    {
      "cell_type": "markdown",
      "metadata": {
        "id": "Ydoq1ZugcDw9"
      },
      "source": [
        "<h3>Problem Statement</h3>\n",
        "Reduce the time a Mercedes-Benz spends on the test bench.\n",
        "\n",
        "Problem Statement Scenario:\n",
        "Since the first automobile, the Benz Patent Motor Car in 1886, Mercedes-Benz has stood for important automotive innovations. These include the passenger safety cell with a crumple zone, the airbag, and intelligent assistance systems. Mercedes-Benz applies for nearly 2000 patents per year, making the brand the European leader among premium carmakers. Mercedes-Benz is the leader in the premium car industry. With a huge selection of features and options, customers can choose the customized Mercedes-Benz of their dreams.\n",
        "\n",
        "To ensure the safety and reliability of every unique car configuration before they hit the road, the company’s engineers have developed a robust testing system. As one of the world’s biggest manufacturers of premium cars, safety and efficiency are paramount on Mercedes-Benz’s production lines. However, optimizing the speed of their testing system for many possible feature combinations is complex and time-consuming without a powerful algorithmic approach.\n",
        "\n",
        "You are required to reduce the time that cars spend on the test bench. Others will work with a dataset representing different permutations of features in a Mercedes-Benz car to predict the time it takes to pass testing. Optimal algorithms will contribute to faster testing, resulting in lower carbon dioxide emissions without reducing Mercedes-Benz’s standards.\n",
        "\n",
        "Following actions should be performed:\n",
        "\n",
        "- If for any column(s), the variance is equal to zero, then you need to remove those variable(s).\n",
        "\n",
        "- Check for null and unique values for test and train sets.\n",
        "\n",
        "- Apply label encoder.\n",
        "\n",
        "- Perform dimensionality reduction.\n",
        "\n",
        "- Predict your test_df values using XGBoost.\n"
      ]
    },
    {
      "cell_type": "code",
      "metadata": {
        "id": "aP72UxPxXYYW"
      },
      "source": [
        "import pandas as pd\n",
        "import numpy as np\n",
        "import os\n",
        "from sklearn.decomposition import PCA"
      ],
      "execution_count": 33,
      "outputs": []
    },
    {
      "cell_type": "code",
      "metadata": {
        "id": "dhPO0WKNXlTr"
      },
      "source": [
        "os.chdir(\"/content/drive/My Drive/Python/Simplilearn/Project/Mercedes\")"
      ],
      "execution_count": 4,
      "outputs": []
    },
    {
      "cell_type": "code",
      "metadata": {
        "id": "iMH8_PwIXy2D",
        "outputId": "346910b7-ea42-4784-db6e-a29c11354b4e",
        "colab": {
          "base_uri": "https://localhost:8080/",
          "height": 34
        }
      },
      "source": [
        "ls"
      ],
      "execution_count": 5,
      "outputs": [
        {
          "output_type": "stream",
          "text": [
            "'Mercedes Benz.ipynb'   test.csv   train.csv\n"
          ],
          "name": "stdout"
        }
      ]
    },
    {
      "cell_type": "code",
      "metadata": {
        "id": "9i-J0UkJX1SQ"
      },
      "source": [
        "df = pd.read_csv(\"train.csv\")"
      ],
      "execution_count": 6,
      "outputs": []
    },
    {
      "cell_type": "code",
      "metadata": {
        "id": "BrDaLWxnX2WA",
        "outputId": "f0c80a55-e8a2-4069-86d8-f5234eaaa7ef",
        "colab": {
          "base_uri": "https://localhost:8080/",
          "height": 253
        }
      },
      "source": [
        "df.head()"
      ],
      "execution_count": 7,
      "outputs": [
        {
          "output_type": "execute_result",
          "data": {
            "text/html": [
              "<div>\n",
              "<style scoped>\n",
              "    .dataframe tbody tr th:only-of-type {\n",
              "        vertical-align: middle;\n",
              "    }\n",
              "\n",
              "    .dataframe tbody tr th {\n",
              "        vertical-align: top;\n",
              "    }\n",
              "\n",
              "    .dataframe thead th {\n",
              "        text-align: right;\n",
              "    }\n",
              "</style>\n",
              "<table border=\"1\" class=\"dataframe\">\n",
              "  <thead>\n",
              "    <tr style=\"text-align: right;\">\n",
              "      <th></th>\n",
              "      <th>ID</th>\n",
              "      <th>y</th>\n",
              "      <th>X0</th>\n",
              "      <th>X1</th>\n",
              "      <th>X2</th>\n",
              "      <th>X3</th>\n",
              "      <th>X4</th>\n",
              "      <th>X5</th>\n",
              "      <th>X6</th>\n",
              "      <th>X8</th>\n",
              "      <th>X10</th>\n",
              "      <th>X11</th>\n",
              "      <th>X12</th>\n",
              "      <th>X13</th>\n",
              "      <th>X14</th>\n",
              "      <th>X15</th>\n",
              "      <th>X16</th>\n",
              "      <th>X17</th>\n",
              "      <th>X18</th>\n",
              "      <th>X19</th>\n",
              "      <th>X20</th>\n",
              "      <th>X21</th>\n",
              "      <th>X22</th>\n",
              "      <th>X23</th>\n",
              "      <th>X24</th>\n",
              "      <th>X26</th>\n",
              "      <th>X27</th>\n",
              "      <th>X28</th>\n",
              "      <th>X29</th>\n",
              "      <th>X30</th>\n",
              "      <th>X31</th>\n",
              "      <th>X32</th>\n",
              "      <th>X33</th>\n",
              "      <th>X34</th>\n",
              "      <th>X35</th>\n",
              "      <th>X36</th>\n",
              "      <th>X37</th>\n",
              "      <th>X38</th>\n",
              "      <th>X39</th>\n",
              "      <th>X40</th>\n",
              "      <th>...</th>\n",
              "      <th>X345</th>\n",
              "      <th>X346</th>\n",
              "      <th>X347</th>\n",
              "      <th>X348</th>\n",
              "      <th>X349</th>\n",
              "      <th>X350</th>\n",
              "      <th>X351</th>\n",
              "      <th>X352</th>\n",
              "      <th>X353</th>\n",
              "      <th>X354</th>\n",
              "      <th>X355</th>\n",
              "      <th>X356</th>\n",
              "      <th>X357</th>\n",
              "      <th>X358</th>\n",
              "      <th>X359</th>\n",
              "      <th>X360</th>\n",
              "      <th>X361</th>\n",
              "      <th>X362</th>\n",
              "      <th>X363</th>\n",
              "      <th>X364</th>\n",
              "      <th>X365</th>\n",
              "      <th>X366</th>\n",
              "      <th>X367</th>\n",
              "      <th>X368</th>\n",
              "      <th>X369</th>\n",
              "      <th>X370</th>\n",
              "      <th>X371</th>\n",
              "      <th>X372</th>\n",
              "      <th>X373</th>\n",
              "      <th>X374</th>\n",
              "      <th>X375</th>\n",
              "      <th>X376</th>\n",
              "      <th>X377</th>\n",
              "      <th>X378</th>\n",
              "      <th>X379</th>\n",
              "      <th>X380</th>\n",
              "      <th>X382</th>\n",
              "      <th>X383</th>\n",
              "      <th>X384</th>\n",
              "      <th>X385</th>\n",
              "    </tr>\n",
              "  </thead>\n",
              "  <tbody>\n",
              "    <tr>\n",
              "      <th>0</th>\n",
              "      <td>0</td>\n",
              "      <td>130.81</td>\n",
              "      <td>k</td>\n",
              "      <td>v</td>\n",
              "      <td>at</td>\n",
              "      <td>a</td>\n",
              "      <td>d</td>\n",
              "      <td>u</td>\n",
              "      <td>j</td>\n",
              "      <td>o</td>\n",
              "      <td>0</td>\n",
              "      <td>0</td>\n",
              "      <td>0</td>\n",
              "      <td>1</td>\n",
              "      <td>0</td>\n",
              "      <td>0</td>\n",
              "      <td>0</td>\n",
              "      <td>0</td>\n",
              "      <td>1</td>\n",
              "      <td>0</td>\n",
              "      <td>0</td>\n",
              "      <td>1</td>\n",
              "      <td>0</td>\n",
              "      <td>0</td>\n",
              "      <td>0</td>\n",
              "      <td>0</td>\n",
              "      <td>0</td>\n",
              "      <td>0</td>\n",
              "      <td>0</td>\n",
              "      <td>0</td>\n",
              "      <td>1</td>\n",
              "      <td>0</td>\n",
              "      <td>0</td>\n",
              "      <td>0</td>\n",
              "      <td>1</td>\n",
              "      <td>0</td>\n",
              "      <td>1</td>\n",
              "      <td>0</td>\n",
              "      <td>0</td>\n",
              "      <td>0</td>\n",
              "      <td>...</td>\n",
              "      <td>0</td>\n",
              "      <td>0</td>\n",
              "      <td>0</td>\n",
              "      <td>0</td>\n",
              "      <td>0</td>\n",
              "      <td>0</td>\n",
              "      <td>0</td>\n",
              "      <td>0</td>\n",
              "      <td>0</td>\n",
              "      <td>1</td>\n",
              "      <td>0</td>\n",
              "      <td>0</td>\n",
              "      <td>0</td>\n",
              "      <td>0</td>\n",
              "      <td>0</td>\n",
              "      <td>0</td>\n",
              "      <td>1</td>\n",
              "      <td>0</td>\n",
              "      <td>0</td>\n",
              "      <td>0</td>\n",
              "      <td>0</td>\n",
              "      <td>0</td>\n",
              "      <td>0</td>\n",
              "      <td>0</td>\n",
              "      <td>0</td>\n",
              "      <td>0</td>\n",
              "      <td>0</td>\n",
              "      <td>0</td>\n",
              "      <td>0</td>\n",
              "      <td>0</td>\n",
              "      <td>0</td>\n",
              "      <td>0</td>\n",
              "      <td>1</td>\n",
              "      <td>0</td>\n",
              "      <td>0</td>\n",
              "      <td>0</td>\n",
              "      <td>0</td>\n",
              "      <td>0</td>\n",
              "      <td>0</td>\n",
              "      <td>0</td>\n",
              "    </tr>\n",
              "    <tr>\n",
              "      <th>1</th>\n",
              "      <td>6</td>\n",
              "      <td>88.53</td>\n",
              "      <td>k</td>\n",
              "      <td>t</td>\n",
              "      <td>av</td>\n",
              "      <td>e</td>\n",
              "      <td>d</td>\n",
              "      <td>y</td>\n",
              "      <td>l</td>\n",
              "      <td>o</td>\n",
              "      <td>0</td>\n",
              "      <td>0</td>\n",
              "      <td>0</td>\n",
              "      <td>0</td>\n",
              "      <td>0</td>\n",
              "      <td>0</td>\n",
              "      <td>0</td>\n",
              "      <td>0</td>\n",
              "      <td>1</td>\n",
              "      <td>0</td>\n",
              "      <td>0</td>\n",
              "      <td>0</td>\n",
              "      <td>0</td>\n",
              "      <td>0</td>\n",
              "      <td>0</td>\n",
              "      <td>0</td>\n",
              "      <td>1</td>\n",
              "      <td>0</td>\n",
              "      <td>0</td>\n",
              "      <td>0</td>\n",
              "      <td>1</td>\n",
              "      <td>0</td>\n",
              "      <td>0</td>\n",
              "      <td>0</td>\n",
              "      <td>1</td>\n",
              "      <td>0</td>\n",
              "      <td>1</td>\n",
              "      <td>0</td>\n",
              "      <td>0</td>\n",
              "      <td>0</td>\n",
              "      <td>...</td>\n",
              "      <td>0</td>\n",
              "      <td>0</td>\n",
              "      <td>0</td>\n",
              "      <td>1</td>\n",
              "      <td>0</td>\n",
              "      <td>0</td>\n",
              "      <td>0</td>\n",
              "      <td>0</td>\n",
              "      <td>0</td>\n",
              "      <td>0</td>\n",
              "      <td>0</td>\n",
              "      <td>0</td>\n",
              "      <td>0</td>\n",
              "      <td>0</td>\n",
              "      <td>0</td>\n",
              "      <td>0</td>\n",
              "      <td>1</td>\n",
              "      <td>0</td>\n",
              "      <td>1</td>\n",
              "      <td>0</td>\n",
              "      <td>0</td>\n",
              "      <td>0</td>\n",
              "      <td>0</td>\n",
              "      <td>0</td>\n",
              "      <td>0</td>\n",
              "      <td>0</td>\n",
              "      <td>0</td>\n",
              "      <td>0</td>\n",
              "      <td>0</td>\n",
              "      <td>0</td>\n",
              "      <td>1</td>\n",
              "      <td>0</td>\n",
              "      <td>0</td>\n",
              "      <td>0</td>\n",
              "      <td>0</td>\n",
              "      <td>0</td>\n",
              "      <td>0</td>\n",
              "      <td>0</td>\n",
              "      <td>0</td>\n",
              "      <td>0</td>\n",
              "    </tr>\n",
              "    <tr>\n",
              "      <th>2</th>\n",
              "      <td>7</td>\n",
              "      <td>76.26</td>\n",
              "      <td>az</td>\n",
              "      <td>w</td>\n",
              "      <td>n</td>\n",
              "      <td>c</td>\n",
              "      <td>d</td>\n",
              "      <td>x</td>\n",
              "      <td>j</td>\n",
              "      <td>x</td>\n",
              "      <td>0</td>\n",
              "      <td>0</td>\n",
              "      <td>0</td>\n",
              "      <td>0</td>\n",
              "      <td>0</td>\n",
              "      <td>0</td>\n",
              "      <td>0</td>\n",
              "      <td>1</td>\n",
              "      <td>0</td>\n",
              "      <td>0</td>\n",
              "      <td>0</td>\n",
              "      <td>0</td>\n",
              "      <td>0</td>\n",
              "      <td>0</td>\n",
              "      <td>0</td>\n",
              "      <td>0</td>\n",
              "      <td>1</td>\n",
              "      <td>1</td>\n",
              "      <td>1</td>\n",
              "      <td>0</td>\n",
              "      <td>1</td>\n",
              "      <td>0</td>\n",
              "      <td>0</td>\n",
              "      <td>0</td>\n",
              "      <td>1</td>\n",
              "      <td>0</td>\n",
              "      <td>1</td>\n",
              "      <td>0</td>\n",
              "      <td>0</td>\n",
              "      <td>0</td>\n",
              "      <td>...</td>\n",
              "      <td>0</td>\n",
              "      <td>0</td>\n",
              "      <td>0</td>\n",
              "      <td>1</td>\n",
              "      <td>0</td>\n",
              "      <td>1</td>\n",
              "      <td>0</td>\n",
              "      <td>0</td>\n",
              "      <td>0</td>\n",
              "      <td>1</td>\n",
              "      <td>0</td>\n",
              "      <td>0</td>\n",
              "      <td>0</td>\n",
              "      <td>1</td>\n",
              "      <td>0</td>\n",
              "      <td>0</td>\n",
              "      <td>1</td>\n",
              "      <td>0</td>\n",
              "      <td>1</td>\n",
              "      <td>0</td>\n",
              "      <td>0</td>\n",
              "      <td>0</td>\n",
              "      <td>0</td>\n",
              "      <td>0</td>\n",
              "      <td>0</td>\n",
              "      <td>0</td>\n",
              "      <td>0</td>\n",
              "      <td>0</td>\n",
              "      <td>0</td>\n",
              "      <td>0</td>\n",
              "      <td>0</td>\n",
              "      <td>0</td>\n",
              "      <td>0</td>\n",
              "      <td>0</td>\n",
              "      <td>0</td>\n",
              "      <td>0</td>\n",
              "      <td>1</td>\n",
              "      <td>0</td>\n",
              "      <td>0</td>\n",
              "      <td>0</td>\n",
              "    </tr>\n",
              "    <tr>\n",
              "      <th>3</th>\n",
              "      <td>9</td>\n",
              "      <td>80.62</td>\n",
              "      <td>az</td>\n",
              "      <td>t</td>\n",
              "      <td>n</td>\n",
              "      <td>f</td>\n",
              "      <td>d</td>\n",
              "      <td>x</td>\n",
              "      <td>l</td>\n",
              "      <td>e</td>\n",
              "      <td>0</td>\n",
              "      <td>0</td>\n",
              "      <td>0</td>\n",
              "      <td>0</td>\n",
              "      <td>0</td>\n",
              "      <td>0</td>\n",
              "      <td>0</td>\n",
              "      <td>0</td>\n",
              "      <td>0</td>\n",
              "      <td>0</td>\n",
              "      <td>0</td>\n",
              "      <td>0</td>\n",
              "      <td>0</td>\n",
              "      <td>0</td>\n",
              "      <td>0</td>\n",
              "      <td>0</td>\n",
              "      <td>1</td>\n",
              "      <td>1</td>\n",
              "      <td>1</td>\n",
              "      <td>0</td>\n",
              "      <td>1</td>\n",
              "      <td>0</td>\n",
              "      <td>0</td>\n",
              "      <td>0</td>\n",
              "      <td>1</td>\n",
              "      <td>0</td>\n",
              "      <td>1</td>\n",
              "      <td>0</td>\n",
              "      <td>0</td>\n",
              "      <td>0</td>\n",
              "      <td>...</td>\n",
              "      <td>0</td>\n",
              "      <td>0</td>\n",
              "      <td>0</td>\n",
              "      <td>1</td>\n",
              "      <td>0</td>\n",
              "      <td>1</td>\n",
              "      <td>0</td>\n",
              "      <td>0</td>\n",
              "      <td>0</td>\n",
              "      <td>0</td>\n",
              "      <td>0</td>\n",
              "      <td>0</td>\n",
              "      <td>0</td>\n",
              "      <td>1</td>\n",
              "      <td>0</td>\n",
              "      <td>0</td>\n",
              "      <td>1</td>\n",
              "      <td>0</td>\n",
              "      <td>1</td>\n",
              "      <td>0</td>\n",
              "      <td>0</td>\n",
              "      <td>0</td>\n",
              "      <td>0</td>\n",
              "      <td>0</td>\n",
              "      <td>0</td>\n",
              "      <td>0</td>\n",
              "      <td>0</td>\n",
              "      <td>1</td>\n",
              "      <td>0</td>\n",
              "      <td>0</td>\n",
              "      <td>0</td>\n",
              "      <td>0</td>\n",
              "      <td>0</td>\n",
              "      <td>0</td>\n",
              "      <td>0</td>\n",
              "      <td>0</td>\n",
              "      <td>0</td>\n",
              "      <td>0</td>\n",
              "      <td>0</td>\n",
              "      <td>0</td>\n",
              "    </tr>\n",
              "    <tr>\n",
              "      <th>4</th>\n",
              "      <td>13</td>\n",
              "      <td>78.02</td>\n",
              "      <td>az</td>\n",
              "      <td>v</td>\n",
              "      <td>n</td>\n",
              "      <td>f</td>\n",
              "      <td>d</td>\n",
              "      <td>h</td>\n",
              "      <td>d</td>\n",
              "      <td>n</td>\n",
              "      <td>0</td>\n",
              "      <td>0</td>\n",
              "      <td>0</td>\n",
              "      <td>0</td>\n",
              "      <td>0</td>\n",
              "      <td>0</td>\n",
              "      <td>0</td>\n",
              "      <td>0</td>\n",
              "      <td>0</td>\n",
              "      <td>0</td>\n",
              "      <td>0</td>\n",
              "      <td>0</td>\n",
              "      <td>0</td>\n",
              "      <td>0</td>\n",
              "      <td>0</td>\n",
              "      <td>0</td>\n",
              "      <td>1</td>\n",
              "      <td>1</td>\n",
              "      <td>1</td>\n",
              "      <td>0</td>\n",
              "      <td>1</td>\n",
              "      <td>0</td>\n",
              "      <td>0</td>\n",
              "      <td>0</td>\n",
              "      <td>1</td>\n",
              "      <td>0</td>\n",
              "      <td>1</td>\n",
              "      <td>0</td>\n",
              "      <td>0</td>\n",
              "      <td>0</td>\n",
              "      <td>...</td>\n",
              "      <td>0</td>\n",
              "      <td>0</td>\n",
              "      <td>0</td>\n",
              "      <td>1</td>\n",
              "      <td>0</td>\n",
              "      <td>1</td>\n",
              "      <td>0</td>\n",
              "      <td>0</td>\n",
              "      <td>0</td>\n",
              "      <td>0</td>\n",
              "      <td>0</td>\n",
              "      <td>0</td>\n",
              "      <td>0</td>\n",
              "      <td>1</td>\n",
              "      <td>0</td>\n",
              "      <td>0</td>\n",
              "      <td>1</td>\n",
              "      <td>0</td>\n",
              "      <td>1</td>\n",
              "      <td>0</td>\n",
              "      <td>0</td>\n",
              "      <td>0</td>\n",
              "      <td>0</td>\n",
              "      <td>0</td>\n",
              "      <td>0</td>\n",
              "      <td>0</td>\n",
              "      <td>1</td>\n",
              "      <td>0</td>\n",
              "      <td>0</td>\n",
              "      <td>0</td>\n",
              "      <td>0</td>\n",
              "      <td>0</td>\n",
              "      <td>0</td>\n",
              "      <td>0</td>\n",
              "      <td>0</td>\n",
              "      <td>0</td>\n",
              "      <td>0</td>\n",
              "      <td>0</td>\n",
              "      <td>0</td>\n",
              "      <td>0</td>\n",
              "    </tr>\n",
              "  </tbody>\n",
              "</table>\n",
              "<p>5 rows × 378 columns</p>\n",
              "</div>"
            ],
            "text/plain": [
              "   ID       y  X0 X1  X2 X3 X4  ... X378 X379 X380  X382  X383  X384  X385\n",
              "0   0  130.81   k  v  at  a  d  ...    0    0    0     0     0     0     0\n",
              "1   6   88.53   k  t  av  e  d  ...    0    0    0     0     0     0     0\n",
              "2   7   76.26  az  w   n  c  d  ...    0    0    0     1     0     0     0\n",
              "3   9   80.62  az  t   n  f  d  ...    0    0    0     0     0     0     0\n",
              "4  13   78.02  az  v   n  f  d  ...    0    0    0     0     0     0     0\n",
              "\n",
              "[5 rows x 378 columns]"
            ]
          },
          "metadata": {
            "tags": []
          },
          "execution_count": 7
        }
      ]
    },
    {
      "cell_type": "code",
      "metadata": {
        "id": "Bz70t0E8dK_s",
        "outputId": "48a83dc4-8a56-4d3b-ce83-3c47af107641",
        "colab": {
          "base_uri": "https://localhost:8080/",
          "height": 34
        }
      },
      "source": [
        "df.shape"
      ],
      "execution_count": 41,
      "outputs": [
        {
          "output_type": "execute_result",
          "data": {
            "text/plain": [
              "(4209, 378)"
            ]
          },
          "metadata": {
            "tags": []
          },
          "execution_count": 41
        }
      ]
    },
    {
      "cell_type": "code",
      "metadata": {
        "id": "39Z82QFOdyis"
      },
      "source": [
        "test = pd.read_csv(\"test.csv\")"
      ],
      "execution_count": 50,
      "outputs": []
    },
    {
      "cell_type": "code",
      "metadata": {
        "id": "YxDfLUEnepy8"
      },
      "source": [
        "train_target = df['y'].values"
      ],
      "execution_count": 64,
      "outputs": []
    },
    {
      "cell_type": "code",
      "metadata": {
        "id": "aE_gs4i0eyrF"
      },
      "source": [
        "df.drop(['y'],inplace=True,axis=1)"
      ],
      "execution_count": 65,
      "outputs": []
    },
    {
      "cell_type": "markdown",
      "metadata": {
        "id": "POiVsxuhYeq2"
      },
      "source": [
        "<H3>Checking for columns with zero variance</h3>"
      ]
    },
    {
      "cell_type": "code",
      "metadata": {
        "id": "AOMH2D5eX2xR"
      },
      "source": [
        "a = dict(df.var())"
      ],
      "execution_count": 67,
      "outputs": []
    },
    {
      "cell_type": "code",
      "metadata": {
        "id": "oSshZ3UrX3oo"
      },
      "source": [
        "columns_zero_var = [column for column,values in a.items() if values==0]"
      ],
      "execution_count": 68,
      "outputs": []
    },
    {
      "cell_type": "code",
      "metadata": {
        "id": "882xZ4hcX_tZ"
      },
      "source": [
        "columns_non_zero_var = [column for column,values in a.items() if values>0]"
      ],
      "execution_count": 69,
      "outputs": []
    },
    {
      "cell_type": "code",
      "metadata": {
        "id": "C7umKkAXYPzR",
        "outputId": "178da45b-a8a7-43f0-faa1-58844b69add4",
        "colab": {
          "base_uri": "https://localhost:8080/",
          "height": 34
        }
      },
      "source": [
        "print (columns_zero_var)"
      ],
      "execution_count": 70,
      "outputs": [
        {
          "output_type": "stream",
          "text": [
            "['X11', 'X93', 'X107', 'X233', 'X235', 'X268', 'X289', 'X290', 'X293', 'X297', 'X330', 'X347']\n"
          ],
          "name": "stdout"
        }
      ]
    },
    {
      "cell_type": "code",
      "metadata": {
        "id": "7AxDTmqiYaSC",
        "outputId": "a7f28baa-41d6-462f-8f1d-476fc1e033f9",
        "colab": {
          "base_uri": "https://localhost:8080/",
          "height": 54
        }
      },
      "source": [
        "print (columns_non_zero_var)"
      ],
      "execution_count": 71,
      "outputs": [
        {
          "output_type": "stream",
          "text": [
            "['ID', 'X10', 'X12', 'X13', 'X14', 'X15', 'X16', 'X17', 'X18', 'X19', 'X20', 'X21', 'X22', 'X23', 'X24', 'X26', 'X27', 'X28', 'X29', 'X30', 'X31', 'X32', 'X33', 'X34', 'X35', 'X36', 'X37', 'X38', 'X39', 'X40', 'X41', 'X42', 'X43', 'X44', 'X45', 'X46', 'X47', 'X48', 'X49', 'X50', 'X51', 'X52', 'X53', 'X54', 'X55', 'X56', 'X57', 'X58', 'X59', 'X60', 'X61', 'X62', 'X63', 'X64', 'X65', 'X66', 'X67', 'X68', 'X69', 'X70', 'X71', 'X73', 'X74', 'X75', 'X76', 'X77', 'X78', 'X79', 'X80', 'X81', 'X82', 'X83', 'X84', 'X85', 'X86', 'X87', 'X88', 'X89', 'X90', 'X91', 'X92', 'X94', 'X95', 'X96', 'X97', 'X98', 'X99', 'X100', 'X101', 'X102', 'X103', 'X104', 'X105', 'X106', 'X108', 'X109', 'X110', 'X111', 'X112', 'X113', 'X114', 'X115', 'X116', 'X117', 'X118', 'X119', 'X120', 'X122', 'X123', 'X124', 'X125', 'X126', 'X127', 'X128', 'X129', 'X130', 'X131', 'X132', 'X133', 'X134', 'X135', 'X136', 'X137', 'X138', 'X139', 'X140', 'X141', 'X142', 'X143', 'X144', 'X145', 'X146', 'X147', 'X148', 'X150', 'X151', 'X152', 'X153', 'X154', 'X155', 'X156', 'X157', 'X158', 'X159', 'X160', 'X161', 'X162', 'X163', 'X164', 'X165', 'X166', 'X167', 'X168', 'X169', 'X170', 'X171', 'X172', 'X173', 'X174', 'X175', 'X176', 'X177', 'X178', 'X179', 'X180', 'X181', 'X182', 'X183', 'X184', 'X185', 'X186', 'X187', 'X189', 'X190', 'X191', 'X192', 'X194', 'X195', 'X196', 'X197', 'X198', 'X199', 'X200', 'X201', 'X202', 'X203', 'X204', 'X205', 'X206', 'X207', 'X208', 'X209', 'X210', 'X211', 'X212', 'X213', 'X214', 'X215', 'X216', 'X217', 'X218', 'X219', 'X220', 'X221', 'X222', 'X223', 'X224', 'X225', 'X226', 'X227', 'X228', 'X229', 'X230', 'X231', 'X232', 'X234', 'X236', 'X237', 'X238', 'X239', 'X240', 'X241', 'X242', 'X243', 'X244', 'X245', 'X246', 'X247', 'X248', 'X249', 'X250', 'X251', 'X252', 'X253', 'X254', 'X255', 'X256', 'X257', 'X258', 'X259', 'X260', 'X261', 'X262', 'X263', 'X264', 'X265', 'X266', 'X267', 'X269', 'X270', 'X271', 'X272', 'X273', 'X274', 'X275', 'X276', 'X277', 'X278', 'X279', 'X280', 'X281', 'X282', 'X283', 'X284', 'X285', 'X286', 'X287', 'X288', 'X291', 'X292', 'X294', 'X295', 'X296', 'X298', 'X299', 'X300', 'X301', 'X302', 'X304', 'X305', 'X306', 'X307', 'X308', 'X309', 'X310', 'X311', 'X312', 'X313', 'X314', 'X315', 'X316', 'X317', 'X318', 'X319', 'X320', 'X321', 'X322', 'X323', 'X324', 'X325', 'X326', 'X327', 'X328', 'X329', 'X331', 'X332', 'X333', 'X334', 'X335', 'X336', 'X337', 'X338', 'X339', 'X340', 'X341', 'X342', 'X343', 'X344', 'X345', 'X346', 'X348', 'X349', 'X350', 'X351', 'X352', 'X353', 'X354', 'X355', 'X356', 'X357', 'X358', 'X359', 'X360', 'X361', 'X362', 'X363', 'X364', 'X365', 'X366', 'X367', 'X368', 'X369', 'X370', 'X371', 'X372', 'X373', 'X374', 'X375', 'X376', 'X377', 'X378', 'X379', 'X380', 'X382', 'X383', 'X384', 'X385']\n"
          ],
          "name": "stdout"
        }
      ]
    },
    {
      "cell_type": "code",
      "metadata": {
        "id": "zfVs7CTpYcGT"
      },
      "source": [
        "new_df = df[columns_non_zero_var]"
      ],
      "execution_count": 72,
      "outputs": []
    },
    {
      "cell_type": "code",
      "metadata": {
        "id": "YwmofaJqYo8S",
        "outputId": "206a037e-3601-4d7e-a90f-0b79da2615a5",
        "colab": {
          "base_uri": "https://localhost:8080/",
          "height": 253
        }
      },
      "source": [
        "new_df.head()"
      ],
      "execution_count": 73,
      "outputs": [
        {
          "output_type": "execute_result",
          "data": {
            "text/html": [
              "<div>\n",
              "<style scoped>\n",
              "    .dataframe tbody tr th:only-of-type {\n",
              "        vertical-align: middle;\n",
              "    }\n",
              "\n",
              "    .dataframe tbody tr th {\n",
              "        vertical-align: top;\n",
              "    }\n",
              "\n",
              "    .dataframe thead th {\n",
              "        text-align: right;\n",
              "    }\n",
              "</style>\n",
              "<table border=\"1\" class=\"dataframe\">\n",
              "  <thead>\n",
              "    <tr style=\"text-align: right;\">\n",
              "      <th></th>\n",
              "      <th>ID</th>\n",
              "      <th>X10</th>\n",
              "      <th>X12</th>\n",
              "      <th>X13</th>\n",
              "      <th>X14</th>\n",
              "      <th>X15</th>\n",
              "      <th>X16</th>\n",
              "      <th>X17</th>\n",
              "      <th>X18</th>\n",
              "      <th>X19</th>\n",
              "      <th>X20</th>\n",
              "      <th>X21</th>\n",
              "      <th>X22</th>\n",
              "      <th>X23</th>\n",
              "      <th>X24</th>\n",
              "      <th>X26</th>\n",
              "      <th>X27</th>\n",
              "      <th>X28</th>\n",
              "      <th>X29</th>\n",
              "      <th>X30</th>\n",
              "      <th>X31</th>\n",
              "      <th>X32</th>\n",
              "      <th>X33</th>\n",
              "      <th>X34</th>\n",
              "      <th>X35</th>\n",
              "      <th>X36</th>\n",
              "      <th>X37</th>\n",
              "      <th>X38</th>\n",
              "      <th>X39</th>\n",
              "      <th>X40</th>\n",
              "      <th>X41</th>\n",
              "      <th>X42</th>\n",
              "      <th>X43</th>\n",
              "      <th>X44</th>\n",
              "      <th>X45</th>\n",
              "      <th>X46</th>\n",
              "      <th>X47</th>\n",
              "      <th>X48</th>\n",
              "      <th>X49</th>\n",
              "      <th>X50</th>\n",
              "      <th>...</th>\n",
              "      <th>X344</th>\n",
              "      <th>X345</th>\n",
              "      <th>X346</th>\n",
              "      <th>X348</th>\n",
              "      <th>X349</th>\n",
              "      <th>X350</th>\n",
              "      <th>X351</th>\n",
              "      <th>X352</th>\n",
              "      <th>X353</th>\n",
              "      <th>X354</th>\n",
              "      <th>X355</th>\n",
              "      <th>X356</th>\n",
              "      <th>X357</th>\n",
              "      <th>X358</th>\n",
              "      <th>X359</th>\n",
              "      <th>X360</th>\n",
              "      <th>X361</th>\n",
              "      <th>X362</th>\n",
              "      <th>X363</th>\n",
              "      <th>X364</th>\n",
              "      <th>X365</th>\n",
              "      <th>X366</th>\n",
              "      <th>X367</th>\n",
              "      <th>X368</th>\n",
              "      <th>X369</th>\n",
              "      <th>X370</th>\n",
              "      <th>X371</th>\n",
              "      <th>X372</th>\n",
              "      <th>X373</th>\n",
              "      <th>X374</th>\n",
              "      <th>X375</th>\n",
              "      <th>X376</th>\n",
              "      <th>X377</th>\n",
              "      <th>X378</th>\n",
              "      <th>X379</th>\n",
              "      <th>X380</th>\n",
              "      <th>X382</th>\n",
              "      <th>X383</th>\n",
              "      <th>X384</th>\n",
              "      <th>X385</th>\n",
              "    </tr>\n",
              "  </thead>\n",
              "  <tbody>\n",
              "    <tr>\n",
              "      <th>0</th>\n",
              "      <td>0</td>\n",
              "      <td>0</td>\n",
              "      <td>0</td>\n",
              "      <td>1</td>\n",
              "      <td>0</td>\n",
              "      <td>0</td>\n",
              "      <td>0</td>\n",
              "      <td>0</td>\n",
              "      <td>1</td>\n",
              "      <td>0</td>\n",
              "      <td>0</td>\n",
              "      <td>1</td>\n",
              "      <td>0</td>\n",
              "      <td>0</td>\n",
              "      <td>0</td>\n",
              "      <td>0</td>\n",
              "      <td>0</td>\n",
              "      <td>0</td>\n",
              "      <td>0</td>\n",
              "      <td>0</td>\n",
              "      <td>1</td>\n",
              "      <td>0</td>\n",
              "      <td>0</td>\n",
              "      <td>0</td>\n",
              "      <td>1</td>\n",
              "      <td>0</td>\n",
              "      <td>1</td>\n",
              "      <td>0</td>\n",
              "      <td>0</td>\n",
              "      <td>0</td>\n",
              "      <td>0</td>\n",
              "      <td>0</td>\n",
              "      <td>0</td>\n",
              "      <td>0</td>\n",
              "      <td>0</td>\n",
              "      <td>1</td>\n",
              "      <td>0</td>\n",
              "      <td>0</td>\n",
              "      <td>0</td>\n",
              "      <td>0</td>\n",
              "      <td>...</td>\n",
              "      <td>0</td>\n",
              "      <td>0</td>\n",
              "      <td>0</td>\n",
              "      <td>0</td>\n",
              "      <td>0</td>\n",
              "      <td>0</td>\n",
              "      <td>0</td>\n",
              "      <td>0</td>\n",
              "      <td>0</td>\n",
              "      <td>1</td>\n",
              "      <td>0</td>\n",
              "      <td>0</td>\n",
              "      <td>0</td>\n",
              "      <td>0</td>\n",
              "      <td>0</td>\n",
              "      <td>0</td>\n",
              "      <td>1</td>\n",
              "      <td>0</td>\n",
              "      <td>0</td>\n",
              "      <td>0</td>\n",
              "      <td>0</td>\n",
              "      <td>0</td>\n",
              "      <td>0</td>\n",
              "      <td>0</td>\n",
              "      <td>0</td>\n",
              "      <td>0</td>\n",
              "      <td>0</td>\n",
              "      <td>0</td>\n",
              "      <td>0</td>\n",
              "      <td>0</td>\n",
              "      <td>0</td>\n",
              "      <td>0</td>\n",
              "      <td>1</td>\n",
              "      <td>0</td>\n",
              "      <td>0</td>\n",
              "      <td>0</td>\n",
              "      <td>0</td>\n",
              "      <td>0</td>\n",
              "      <td>0</td>\n",
              "      <td>0</td>\n",
              "    </tr>\n",
              "    <tr>\n",
              "      <th>1</th>\n",
              "      <td>6</td>\n",
              "      <td>0</td>\n",
              "      <td>0</td>\n",
              "      <td>0</td>\n",
              "      <td>0</td>\n",
              "      <td>0</td>\n",
              "      <td>0</td>\n",
              "      <td>0</td>\n",
              "      <td>1</td>\n",
              "      <td>0</td>\n",
              "      <td>0</td>\n",
              "      <td>0</td>\n",
              "      <td>0</td>\n",
              "      <td>0</td>\n",
              "      <td>0</td>\n",
              "      <td>0</td>\n",
              "      <td>1</td>\n",
              "      <td>0</td>\n",
              "      <td>0</td>\n",
              "      <td>0</td>\n",
              "      <td>1</td>\n",
              "      <td>0</td>\n",
              "      <td>0</td>\n",
              "      <td>0</td>\n",
              "      <td>1</td>\n",
              "      <td>0</td>\n",
              "      <td>1</td>\n",
              "      <td>0</td>\n",
              "      <td>0</td>\n",
              "      <td>0</td>\n",
              "      <td>0</td>\n",
              "      <td>0</td>\n",
              "      <td>0</td>\n",
              "      <td>0</td>\n",
              "      <td>0</td>\n",
              "      <td>0</td>\n",
              "      <td>0</td>\n",
              "      <td>0</td>\n",
              "      <td>0</td>\n",
              "      <td>0</td>\n",
              "      <td>...</td>\n",
              "      <td>0</td>\n",
              "      <td>0</td>\n",
              "      <td>0</td>\n",
              "      <td>1</td>\n",
              "      <td>0</td>\n",
              "      <td>0</td>\n",
              "      <td>0</td>\n",
              "      <td>0</td>\n",
              "      <td>0</td>\n",
              "      <td>0</td>\n",
              "      <td>0</td>\n",
              "      <td>0</td>\n",
              "      <td>0</td>\n",
              "      <td>0</td>\n",
              "      <td>0</td>\n",
              "      <td>0</td>\n",
              "      <td>1</td>\n",
              "      <td>0</td>\n",
              "      <td>1</td>\n",
              "      <td>0</td>\n",
              "      <td>0</td>\n",
              "      <td>0</td>\n",
              "      <td>0</td>\n",
              "      <td>0</td>\n",
              "      <td>0</td>\n",
              "      <td>0</td>\n",
              "      <td>0</td>\n",
              "      <td>0</td>\n",
              "      <td>0</td>\n",
              "      <td>0</td>\n",
              "      <td>1</td>\n",
              "      <td>0</td>\n",
              "      <td>0</td>\n",
              "      <td>0</td>\n",
              "      <td>0</td>\n",
              "      <td>0</td>\n",
              "      <td>0</td>\n",
              "      <td>0</td>\n",
              "      <td>0</td>\n",
              "      <td>0</td>\n",
              "    </tr>\n",
              "    <tr>\n",
              "      <th>2</th>\n",
              "      <td>7</td>\n",
              "      <td>0</td>\n",
              "      <td>0</td>\n",
              "      <td>0</td>\n",
              "      <td>0</td>\n",
              "      <td>0</td>\n",
              "      <td>0</td>\n",
              "      <td>1</td>\n",
              "      <td>0</td>\n",
              "      <td>0</td>\n",
              "      <td>0</td>\n",
              "      <td>0</td>\n",
              "      <td>0</td>\n",
              "      <td>0</td>\n",
              "      <td>0</td>\n",
              "      <td>0</td>\n",
              "      <td>1</td>\n",
              "      <td>1</td>\n",
              "      <td>1</td>\n",
              "      <td>0</td>\n",
              "      <td>1</td>\n",
              "      <td>0</td>\n",
              "      <td>0</td>\n",
              "      <td>0</td>\n",
              "      <td>1</td>\n",
              "      <td>0</td>\n",
              "      <td>1</td>\n",
              "      <td>0</td>\n",
              "      <td>0</td>\n",
              "      <td>0</td>\n",
              "      <td>0</td>\n",
              "      <td>0</td>\n",
              "      <td>1</td>\n",
              "      <td>0</td>\n",
              "      <td>0</td>\n",
              "      <td>1</td>\n",
              "      <td>0</td>\n",
              "      <td>0</td>\n",
              "      <td>0</td>\n",
              "      <td>0</td>\n",
              "      <td>...</td>\n",
              "      <td>0</td>\n",
              "      <td>0</td>\n",
              "      <td>0</td>\n",
              "      <td>1</td>\n",
              "      <td>0</td>\n",
              "      <td>1</td>\n",
              "      <td>0</td>\n",
              "      <td>0</td>\n",
              "      <td>0</td>\n",
              "      <td>1</td>\n",
              "      <td>0</td>\n",
              "      <td>0</td>\n",
              "      <td>0</td>\n",
              "      <td>1</td>\n",
              "      <td>0</td>\n",
              "      <td>0</td>\n",
              "      <td>1</td>\n",
              "      <td>0</td>\n",
              "      <td>1</td>\n",
              "      <td>0</td>\n",
              "      <td>0</td>\n",
              "      <td>0</td>\n",
              "      <td>0</td>\n",
              "      <td>0</td>\n",
              "      <td>0</td>\n",
              "      <td>0</td>\n",
              "      <td>0</td>\n",
              "      <td>0</td>\n",
              "      <td>0</td>\n",
              "      <td>0</td>\n",
              "      <td>0</td>\n",
              "      <td>0</td>\n",
              "      <td>0</td>\n",
              "      <td>0</td>\n",
              "      <td>0</td>\n",
              "      <td>0</td>\n",
              "      <td>1</td>\n",
              "      <td>0</td>\n",
              "      <td>0</td>\n",
              "      <td>0</td>\n",
              "    </tr>\n",
              "    <tr>\n",
              "      <th>3</th>\n",
              "      <td>9</td>\n",
              "      <td>0</td>\n",
              "      <td>0</td>\n",
              "      <td>0</td>\n",
              "      <td>0</td>\n",
              "      <td>0</td>\n",
              "      <td>0</td>\n",
              "      <td>0</td>\n",
              "      <td>0</td>\n",
              "      <td>0</td>\n",
              "      <td>0</td>\n",
              "      <td>0</td>\n",
              "      <td>0</td>\n",
              "      <td>0</td>\n",
              "      <td>0</td>\n",
              "      <td>0</td>\n",
              "      <td>1</td>\n",
              "      <td>1</td>\n",
              "      <td>1</td>\n",
              "      <td>0</td>\n",
              "      <td>1</td>\n",
              "      <td>0</td>\n",
              "      <td>0</td>\n",
              "      <td>0</td>\n",
              "      <td>1</td>\n",
              "      <td>0</td>\n",
              "      <td>1</td>\n",
              "      <td>0</td>\n",
              "      <td>0</td>\n",
              "      <td>0</td>\n",
              "      <td>0</td>\n",
              "      <td>0</td>\n",
              "      <td>1</td>\n",
              "      <td>0</td>\n",
              "      <td>0</td>\n",
              "      <td>1</td>\n",
              "      <td>0</td>\n",
              "      <td>0</td>\n",
              "      <td>0</td>\n",
              "      <td>0</td>\n",
              "      <td>...</td>\n",
              "      <td>0</td>\n",
              "      <td>0</td>\n",
              "      <td>0</td>\n",
              "      <td>1</td>\n",
              "      <td>0</td>\n",
              "      <td>1</td>\n",
              "      <td>0</td>\n",
              "      <td>0</td>\n",
              "      <td>0</td>\n",
              "      <td>0</td>\n",
              "      <td>0</td>\n",
              "      <td>0</td>\n",
              "      <td>0</td>\n",
              "      <td>1</td>\n",
              "      <td>0</td>\n",
              "      <td>0</td>\n",
              "      <td>1</td>\n",
              "      <td>0</td>\n",
              "      <td>1</td>\n",
              "      <td>0</td>\n",
              "      <td>0</td>\n",
              "      <td>0</td>\n",
              "      <td>0</td>\n",
              "      <td>0</td>\n",
              "      <td>0</td>\n",
              "      <td>0</td>\n",
              "      <td>0</td>\n",
              "      <td>1</td>\n",
              "      <td>0</td>\n",
              "      <td>0</td>\n",
              "      <td>0</td>\n",
              "      <td>0</td>\n",
              "      <td>0</td>\n",
              "      <td>0</td>\n",
              "      <td>0</td>\n",
              "      <td>0</td>\n",
              "      <td>0</td>\n",
              "      <td>0</td>\n",
              "      <td>0</td>\n",
              "      <td>0</td>\n",
              "    </tr>\n",
              "    <tr>\n",
              "      <th>4</th>\n",
              "      <td>13</td>\n",
              "      <td>0</td>\n",
              "      <td>0</td>\n",
              "      <td>0</td>\n",
              "      <td>0</td>\n",
              "      <td>0</td>\n",
              "      <td>0</td>\n",
              "      <td>0</td>\n",
              "      <td>0</td>\n",
              "      <td>0</td>\n",
              "      <td>0</td>\n",
              "      <td>0</td>\n",
              "      <td>0</td>\n",
              "      <td>0</td>\n",
              "      <td>0</td>\n",
              "      <td>0</td>\n",
              "      <td>1</td>\n",
              "      <td>1</td>\n",
              "      <td>1</td>\n",
              "      <td>0</td>\n",
              "      <td>1</td>\n",
              "      <td>0</td>\n",
              "      <td>0</td>\n",
              "      <td>0</td>\n",
              "      <td>1</td>\n",
              "      <td>0</td>\n",
              "      <td>1</td>\n",
              "      <td>0</td>\n",
              "      <td>0</td>\n",
              "      <td>0</td>\n",
              "      <td>0</td>\n",
              "      <td>0</td>\n",
              "      <td>1</td>\n",
              "      <td>0</td>\n",
              "      <td>0</td>\n",
              "      <td>1</td>\n",
              "      <td>0</td>\n",
              "      <td>0</td>\n",
              "      <td>0</td>\n",
              "      <td>0</td>\n",
              "      <td>...</td>\n",
              "      <td>0</td>\n",
              "      <td>0</td>\n",
              "      <td>0</td>\n",
              "      <td>1</td>\n",
              "      <td>0</td>\n",
              "      <td>1</td>\n",
              "      <td>0</td>\n",
              "      <td>0</td>\n",
              "      <td>0</td>\n",
              "      <td>0</td>\n",
              "      <td>0</td>\n",
              "      <td>0</td>\n",
              "      <td>0</td>\n",
              "      <td>1</td>\n",
              "      <td>0</td>\n",
              "      <td>0</td>\n",
              "      <td>1</td>\n",
              "      <td>0</td>\n",
              "      <td>1</td>\n",
              "      <td>0</td>\n",
              "      <td>0</td>\n",
              "      <td>0</td>\n",
              "      <td>0</td>\n",
              "      <td>0</td>\n",
              "      <td>0</td>\n",
              "      <td>0</td>\n",
              "      <td>1</td>\n",
              "      <td>0</td>\n",
              "      <td>0</td>\n",
              "      <td>0</td>\n",
              "      <td>0</td>\n",
              "      <td>0</td>\n",
              "      <td>0</td>\n",
              "      <td>0</td>\n",
              "      <td>0</td>\n",
              "      <td>0</td>\n",
              "      <td>0</td>\n",
              "      <td>0</td>\n",
              "      <td>0</td>\n",
              "      <td>0</td>\n",
              "    </tr>\n",
              "  </tbody>\n",
              "</table>\n",
              "<p>5 rows × 357 columns</p>\n",
              "</div>"
            ],
            "text/plain": [
              "   ID  X10  X12  X13  X14  X15  X16  ...  X378  X379  X380  X382  X383  X384  X385\n",
              "0   0    0    0    1    0    0    0  ...     0     0     0     0     0     0     0\n",
              "1   6    0    0    0    0    0    0  ...     0     0     0     0     0     0     0\n",
              "2   7    0    0    0    0    0    0  ...     0     0     0     1     0     0     0\n",
              "3   9    0    0    0    0    0    0  ...     0     0     0     0     0     0     0\n",
              "4  13    0    0    0    0    0    0  ...     0     0     0     0     0     0     0\n",
              "\n",
              "[5 rows x 357 columns]"
            ]
          },
          "metadata": {
            "tags": []
          },
          "execution_count": 73
        }
      ]
    },
    {
      "cell_type": "markdown",
      "metadata": {
        "id": "BouHNV8nY3Fp"
      },
      "source": [
        "<h3>Dropping the ID Column</h3>"
      ]
    },
    {
      "cell_type": "code",
      "metadata": {
        "id": "EdZ3XEoMYpbK"
      },
      "source": [
        "new_df = new_df.drop(['ID'],axis=1)"
      ],
      "execution_count": 74,
      "outputs": []
    },
    {
      "cell_type": "markdown",
      "metadata": {
        "id": "La9eGuEMZEn9"
      },
      "source": [
        "<h3>Checking for null & unique values</h3>"
      ]
    },
    {
      "cell_type": "code",
      "metadata": {
        "id": "bMlEMgEGZF0t",
        "outputId": "e5d36da5-bebb-4c3d-8993-034b81f224da",
        "colab": {
          "base_uri": "https://localhost:8080/",
          "height": 221
        }
      },
      "source": [
        "new_df.isnull().sum()"
      ],
      "execution_count": 75,
      "outputs": [
        {
          "output_type": "execute_result",
          "data": {
            "text/plain": [
              "X10     0\n",
              "X12     0\n",
              "X13     0\n",
              "X14     0\n",
              "X15     0\n",
              "       ..\n",
              "X380    0\n",
              "X382    0\n",
              "X383    0\n",
              "X384    0\n",
              "X385    0\n",
              "Length: 356, dtype: int64"
            ]
          },
          "metadata": {
            "tags": []
          },
          "execution_count": 75
        }
      ]
    },
    {
      "cell_type": "markdown",
      "metadata": {
        "id": "z1z-I57_b77W"
      },
      "source": [
        "<h3>Principle Component Analysis</h3>"
      ]
    },
    {
      "cell_type": "code",
      "metadata": {
        "id": "7EOyHpdzaAkv"
      },
      "source": [
        "n_comp = 12\n",
        "pca = PCA(n_components=n_comp, random_state=420)"
      ],
      "execution_count": 76,
      "outputs": []
    },
    {
      "cell_type": "code",
      "metadata": {
        "id": "lXZ8QdhNcZV0"
      },
      "source": [
        "pca_results = pca.fit_transform(new_df)"
      ],
      "execution_count": 77,
      "outputs": []
    },
    {
      "cell_type": "code",
      "metadata": {
        "id": "zOjhSHWSgUj0",
        "outputId": "1a73fa31-4186-47ea-d02c-695a4206cb73",
        "colab": {
          "base_uri": "https://localhost:8080/",
          "height": 34
        }
      },
      "source": [
        "pca_results.shape"
      ],
      "execution_count": 85,
      "outputs": [
        {
          "output_type": "execute_result",
          "data": {
            "text/plain": [
              "(4209, 12)"
            ]
          },
          "metadata": {
            "tags": []
          },
          "execution_count": 85
        }
      ]
    },
    {
      "cell_type": "code",
      "metadata": {
        "id": "p2DIZ1aQcgqN",
        "outputId": "c84fce57-9d9b-4c62-f94b-dde164d7f93c",
        "colab": {
          "base_uri": "https://localhost:8080/",
          "height": 68
        }
      },
      "source": [
        "pca.explained_variance_ratio_"
      ],
      "execution_count": 78,
      "outputs": [
        {
          "output_type": "execute_result",
          "data": {
            "text/plain": [
              "array([0.13075463, 0.08895904, 0.08608808, 0.06848157, 0.05775222,\n",
              "       0.04803243, 0.03839034, 0.03295792, 0.02810834, 0.02509342,\n",
              "       0.02354912, 0.01974618])"
            ]
          },
          "metadata": {
            "tags": []
          },
          "execution_count": 78
        }
      ]
    },
    {
      "cell_type": "code",
      "metadata": {
        "id": "3940gd77hEn4"
      },
      "source": [
        "id= test['ID']"
      ],
      "execution_count": 86,
      "outputs": []
    },
    {
      "cell_type": "code",
      "metadata": {
        "id": "OMRzxmqld1TT"
      },
      "source": [
        "new_test = test[columns_non_zero_var]"
      ],
      "execution_count": 79,
      "outputs": []
    },
    {
      "cell_type": "code",
      "metadata": {
        "id": "-OyDvxTId8uc"
      },
      "source": [
        "new_test = new_test.drop(['ID'],axis=1)"
      ],
      "execution_count": 81,
      "outputs": []
    },
    {
      "cell_type": "code",
      "metadata": {
        "id": "g1a3kO6ygBhn"
      },
      "source": [
        "new_test_ = pca.fit_transform(new_test)"
      ],
      "execution_count": 83,
      "outputs": []
    },
    {
      "cell_type": "code",
      "metadata": {
        "id": "HKbG0SH2gRxe",
        "outputId": "7772dba7-f586-4018-a8f8-fc1df37413a0",
        "colab": {
          "base_uri": "https://localhost:8080/",
          "height": 34
        }
      },
      "source": [
        "new_test_.shape"
      ],
      "execution_count": 103,
      "outputs": [
        {
          "output_type": "execute_result",
          "data": {
            "text/plain": [
              "(4209, 12)"
            ]
          },
          "metadata": {
            "tags": []
          },
          "execution_count": 103
        }
      ]
    },
    {
      "cell_type": "code",
      "metadata": {
        "id": "3HLX9O56gTCH"
      },
      "source": [
        ""
      ],
      "execution_count": null,
      "outputs": []
    },
    {
      "cell_type": "markdown",
      "metadata": {
        "id": "HnIIdc77gaOE"
      },
      "source": [
        "<H3>Model Building</h3>"
      ]
    },
    {
      "cell_type": "code",
      "metadata": {
        "id": "Cyb3Z3KEgcTA"
      },
      "source": [
        "import xgboost as xgb\n",
        "from sklearn.metrics import r2_score\n",
        "from sklearn.model_selection import train_test_split"
      ],
      "execution_count": 88,
      "outputs": []
    },
    {
      "cell_type": "code",
      "metadata": {
        "id": "1y1SXfHzitPo"
      },
      "source": [
        "x_train , x_test , y_train , y_test = train_test_split(pca_results,target,test_size=0.2)"
      ],
      "execution_count": 94,
      "outputs": []
    },
    {
      "cell_type": "code",
      "metadata": {
        "id": "mHq0sW1xi6xn",
        "outputId": "788a8d24-9f20-4f8d-e27b-a17989f97d31",
        "colab": {
          "base_uri": "https://localhost:8080/",
          "height": 102
        }
      },
      "source": [
        "print(f\"\"\"X train : {x_train.shape}\n",
        "X test : {x_test.shape}\n",
        "Y train : {y_train.shape}\n",
        "Y test: {y_test.shape}\n",
        "\"\"\")"
      ],
      "execution_count": 95,
      "outputs": [
        {
          "output_type": "stream",
          "text": [
            "X train : (3367, 12)\n",
            "X test : (842, 12)\n",
            "Y train : (3367,)\n",
            "Y test: (842,)\n",
            "\n"
          ],
          "name": "stdout"
        }
      ]
    },
    {
      "cell_type": "code",
      "metadata": {
        "id": "mK2_P4GmjejV"
      },
      "source": [
        "d_train = xgb.DMatrix(x_train, label=y_train)\n",
        "d_valid = xgb.DMatrix(x_test, label=y_test)\n",
        "#d_test = xgb.DMatrix(x_test)\n",
        "d_test = xgb.DMatrix(new_test_)"
      ],
      "execution_count": 104,
      "outputs": []
    },
    {
      "cell_type": "code",
      "metadata": {
        "id": "FRUy9n2xkg2w"
      },
      "source": [
        "params = {}\n",
        "params['objective'] = 'reg:linear'\n",
        "params['eta'] = 0.02\n",
        "params['max_depth'] = 4"
      ],
      "execution_count": 100,
      "outputs": []
    },
    {
      "cell_type": "code",
      "metadata": {
        "id": "3NyayOYIjlz3"
      },
      "source": [
        "def xgb_r2_score(preds, dtrain):\n",
        "    labels = dtrain.get_label()\n",
        "    return 'r2', r2_score(labels, preds)"
      ],
      "execution_count": 101,
      "outputs": []
    },
    {
      "cell_type": "code",
      "metadata": {
        "id": "PARDZSH-kVox",
        "outputId": "861ac84e-fde4-4423-f59d-894c086e0eb8",
        "colab": {
          "base_uri": "https://localhost:8080/",
          "height": 1000
        }
      },
      "source": [
        "watchlist = [(d_train, 'train'), (d_valid, 'valid')]\n",
        "\n",
        "clf = xgb.train(params, d_train, \n",
        "                1000, watchlist, early_stopping_rounds=50, \n",
        "                feval=xgb_r2_score, maximize=True, verbose_eval=10)"
      ],
      "execution_count": 102,
      "outputs": [
        {
          "output_type": "stream",
          "text": [
            "[10:47:07] WARNING: /workspace/src/objective/regression_obj.cu:152: reg:linear is now deprecated in favor of reg:squarederror.\n",
            "[0]\ttrain-rmse:98.6679\tvalid-rmse:100.198\ttrain-r2:-62.6981\tvalid-r2:-51.6182\n",
            "Multiple eval metrics have been passed: 'valid-r2' will be used for early stopping.\n",
            "\n",
            "Will train until valid-r2 hasn't improved in 50 rounds.\n",
            "[10]\ttrain-rmse:80.8419\tvalid-rmse:82.3125\ttrain-r2:-41.761\tvalid-r2:-34.5097\n",
            "[20]\ttrain-rmse:66.3067\tvalid-rmse:67.7541\ttrain-r2:-27.7667\tvalid-r2:-23.0595\n",
            "[30]\ttrain-rmse:54.4663\tvalid-rmse:55.9237\ttrain-r2:-18.4102\tvalid-r2:-15.3911\n",
            "[40]\ttrain-rmse:44.828\tvalid-rmse:46.286\ttrain-r2:-12.1484\tvalid-r2:-10.2283\n",
            "[50]\ttrain-rmse:36.9969\tvalid-rmse:38.5004\ttrain-r2:-7.95584\tvalid-r2:-6.76865\n",
            "[60]\ttrain-rmse:30.6591\tvalid-rmse:32.2175\ttrain-r2:-5.15026\tvalid-r2:-4.44002\n",
            "[70]\ttrain-rmse:25.5466\tvalid-rmse:27.188\ttrain-r2:-3.27014\tvalid-r2:-2.87409\n",
            "[80]\ttrain-rmse:21.4448\tvalid-rmse:23.1742\ttrain-r2:-2.00899\tvalid-r2:-1.81465\n",
            "[90]\ttrain-rmse:18.1796\tvalid-rmse:20.0077\ttrain-r2:-1.16243\tvalid-r2:-1.09802\n",
            "[100]\ttrain-rmse:15.6029\tvalid-rmse:17.5463\ttrain-r2:-0.592881\tvalid-r2:-0.613566\n",
            "[110]\ttrain-rmse:13.5926\tvalid-rmse:15.6614\ttrain-r2:-0.208869\tvalid-r2:-0.285505\n",
            "[120]\ttrain-rmse:12.0485\tvalid-rmse:14.2313\ttrain-r2:0.050185\tvalid-r2:-0.061467\n",
            "[130]\ttrain-rmse:10.8835\tvalid-rmse:13.1634\ttrain-r2:0.224975\tvalid-r2:0.091863\n",
            "[140]\ttrain-rmse:10.0116\tvalid-rmse:12.3757\ttrain-r2:0.34418\tvalid-r2:0.197293\n",
            "[150]\ttrain-rmse:9.36632\tvalid-rmse:11.803\ttrain-r2:0.425999\tvalid-r2:0.269874\n",
            "[160]\ttrain-rmse:8.88978\tvalid-rmse:11.3959\ttrain-r2:0.482921\tvalid-r2:0.319363\n",
            "[170]\ttrain-rmse:8.54658\tvalid-rmse:11.1045\ttrain-r2:0.522074\tvalid-r2:0.353732\n",
            "[180]\ttrain-rmse:8.29475\tvalid-rmse:10.8949\ttrain-r2:0.549825\tvalid-r2:0.377894\n",
            "[190]\ttrain-rmse:8.1081\tvalid-rmse:10.7383\ttrain-r2:0.569856\tvalid-r2:0.395657\n",
            "[200]\ttrain-rmse:7.96772\tvalid-rmse:10.6253\ttrain-r2:0.584622\tvalid-r2:0.4083\n",
            "[210]\ttrain-rmse:7.86316\tvalid-rmse:10.5438\ttrain-r2:0.595453\tvalid-r2:0.417342\n",
            "[220]\ttrain-rmse:7.78521\tvalid-rmse:10.4828\ttrain-r2:0.603434\tvalid-r2:0.424066\n",
            "[230]\ttrain-rmse:7.72188\tvalid-rmse:10.4351\ttrain-r2:0.609859\tvalid-r2:0.429302\n",
            "[240]\ttrain-rmse:7.67234\tvalid-rmse:10.404\ttrain-r2:0.614849\tvalid-r2:0.432693\n",
            "[250]\ttrain-rmse:7.63038\tvalid-rmse:10.378\ttrain-r2:0.619051\tvalid-r2:0.435531\n",
            "[260]\ttrain-rmse:7.59271\tvalid-rmse:10.3547\ttrain-r2:0.622803\tvalid-r2:0.438057\n",
            "[270]\ttrain-rmse:7.56201\tvalid-rmse:10.3394\ttrain-r2:0.625847\tvalid-r2:0.439723\n",
            "[280]\ttrain-rmse:7.53576\tvalid-rmse:10.3264\ttrain-r2:0.62844\tvalid-r2:0.441125\n",
            "[290]\ttrain-rmse:7.50747\tvalid-rmse:10.3118\ttrain-r2:0.631224\tvalid-r2:0.442709\n",
            "[300]\ttrain-rmse:7.48524\tvalid-rmse:10.3023\ttrain-r2:0.633405\tvalid-r2:0.443732\n",
            "[310]\ttrain-rmse:7.45937\tvalid-rmse:10.292\ttrain-r2:0.635935\tvalid-r2:0.444849\n",
            "[320]\ttrain-rmse:7.43229\tvalid-rmse:10.2891\ttrain-r2:0.638573\tvalid-r2:0.445161\n",
            "[330]\ttrain-rmse:7.406\tvalid-rmse:10.2831\ttrain-r2:0.641126\tvalid-r2:0.445807\n",
            "[340]\ttrain-rmse:7.38193\tvalid-rmse:10.2771\ttrain-r2:0.643455\tvalid-r2:0.446452\n",
            "[350]\ttrain-rmse:7.35677\tvalid-rmse:10.2746\ttrain-r2:0.64588\tvalid-r2:0.446716\n",
            "[360]\ttrain-rmse:7.3338\tvalid-rmse:10.2715\ttrain-r2:0.648089\tvalid-r2:0.447058\n",
            "[370]\ttrain-rmse:7.31235\tvalid-rmse:10.2689\ttrain-r2:0.650144\tvalid-r2:0.447337\n",
            "[380]\ttrain-rmse:7.28984\tvalid-rmse:10.2664\ttrain-r2:0.652294\tvalid-r2:0.447598\n",
            "[390]\ttrain-rmse:7.26796\tvalid-rmse:10.2629\ttrain-r2:0.654379\tvalid-r2:0.447981\n",
            "[400]\ttrain-rmse:7.24924\tvalid-rmse:10.2623\ttrain-r2:0.656157\tvalid-r2:0.448048\n",
            "[410]\ttrain-rmse:7.23034\tvalid-rmse:10.2571\ttrain-r2:0.657947\tvalid-r2:0.448605\n",
            "[420]\ttrain-rmse:7.21035\tvalid-rmse:10.2552\ttrain-r2:0.659836\tvalid-r2:0.44881\n",
            "[430]\ttrain-rmse:7.19455\tvalid-rmse:10.2557\ttrain-r2:0.661326\tvalid-r2:0.448756\n",
            "[440]\ttrain-rmse:7.17617\tvalid-rmse:10.2544\ttrain-r2:0.663054\tvalid-r2:0.448896\n",
            "[450]\ttrain-rmse:7.15597\tvalid-rmse:10.2516\ttrain-r2:0.664948\tvalid-r2:0.449196\n",
            "[460]\ttrain-rmse:7.14001\tvalid-rmse:10.2494\ttrain-r2:0.666441\tvalid-r2:0.449435\n",
            "[470]\ttrain-rmse:7.12507\tvalid-rmse:10.2503\ttrain-r2:0.667835\tvalid-r2:0.449334\n",
            "[480]\ttrain-rmse:7.1071\tvalid-rmse:10.2466\ttrain-r2:0.669509\tvalid-r2:0.449727\n",
            "[490]\ttrain-rmse:7.08755\tvalid-rmse:10.2459\ttrain-r2:0.671324\tvalid-r2:0.449802\n",
            "[500]\ttrain-rmse:7.07164\tvalid-rmse:10.245\ttrain-r2:0.672798\tvalid-r2:0.449901\n",
            "[510]\ttrain-rmse:7.05759\tvalid-rmse:10.2436\ttrain-r2:0.674097\tvalid-r2:0.450054\n",
            "[520]\ttrain-rmse:7.04359\tvalid-rmse:10.2417\ttrain-r2:0.675389\tvalid-r2:0.450253\n",
            "[530]\ttrain-rmse:7.02896\tvalid-rmse:10.2406\ttrain-r2:0.676736\tvalid-r2:0.450372\n",
            "[540]\ttrain-rmse:7.01583\tvalid-rmse:10.2405\ttrain-r2:0.677943\tvalid-r2:0.450387\n",
            "[550]\ttrain-rmse:7.00166\tvalid-rmse:10.2387\ttrain-r2:0.679243\tvalid-r2:0.450576\n",
            "[560]\ttrain-rmse:6.98728\tvalid-rmse:10.2382\ttrain-r2:0.680559\tvalid-r2:0.450637\n",
            "[570]\ttrain-rmse:6.973\tvalid-rmse:10.2373\ttrain-r2:0.681863\tvalid-r2:0.450732\n",
            "[580]\ttrain-rmse:6.96403\tvalid-rmse:10.2355\ttrain-r2:0.682681\tvalid-r2:0.45092\n",
            "[590]\ttrain-rmse:6.95079\tvalid-rmse:10.2365\ttrain-r2:0.683886\tvalid-r2:0.450818\n",
            "[600]\ttrain-rmse:6.94186\tvalid-rmse:10.2354\ttrain-r2:0.684698\tvalid-r2:0.450938\n",
            "[610]\ttrain-rmse:6.92983\tvalid-rmse:10.234\ttrain-r2:0.68579\tvalid-r2:0.451079\n",
            "[620]\ttrain-rmse:6.92152\tvalid-rmse:10.2333\ttrain-r2:0.686543\tvalid-r2:0.451158\n",
            "[630]\ttrain-rmse:6.9115\tvalid-rmse:10.2334\ttrain-r2:0.68745\tvalid-r2:0.451149\n",
            "[640]\ttrain-rmse:6.90199\tvalid-rmse:10.2325\ttrain-r2:0.68831\tvalid-r2:0.451245\n",
            "[650]\ttrain-rmse:6.8928\tvalid-rmse:10.2301\ttrain-r2:0.689139\tvalid-r2:0.451502\n",
            "[660]\ttrain-rmse:6.88395\tvalid-rmse:10.2303\ttrain-r2:0.689937\tvalid-r2:0.451475\n",
            "[670]\ttrain-rmse:6.87413\tvalid-rmse:10.2276\ttrain-r2:0.690821\tvalid-r2:0.451775\n",
            "[680]\ttrain-rmse:6.86612\tvalid-rmse:10.2251\ttrain-r2:0.691541\tvalid-r2:0.452036\n",
            "[690]\ttrain-rmse:6.85797\tvalid-rmse:10.2237\ttrain-r2:0.692272\tvalid-r2:0.452185\n",
            "[700]\ttrain-rmse:6.84882\tvalid-rmse:10.2224\ttrain-r2:0.693093\tvalid-r2:0.452325\n",
            "[710]\ttrain-rmse:6.8412\tvalid-rmse:10.2229\ttrain-r2:0.693775\tvalid-r2:0.452273\n",
            "[720]\ttrain-rmse:6.83088\tvalid-rmse:10.2219\ttrain-r2:0.694699\tvalid-r2:0.452378\n",
            "[730]\ttrain-rmse:6.82278\tvalid-rmse:10.2184\ttrain-r2:0.695422\tvalid-r2:0.452758\n",
            "[740]\ttrain-rmse:6.81114\tvalid-rmse:10.2191\ttrain-r2:0.69646\tvalid-r2:0.452677\n",
            "[750]\ttrain-rmse:6.80239\tvalid-rmse:10.2171\ttrain-r2:0.697241\tvalid-r2:0.452897\n",
            "[760]\ttrain-rmse:6.79375\tvalid-rmse:10.2184\ttrain-r2:0.698009\tvalid-r2:0.452756\n",
            "[770]\ttrain-rmse:6.78497\tvalid-rmse:10.2176\ttrain-r2:0.698789\tvalid-r2:0.452836\n",
            "[780]\ttrain-rmse:6.77555\tvalid-rmse:10.2173\ttrain-r2:0.699625\tvalid-r2:0.452873\n",
            "[790]\ttrain-rmse:6.76607\tvalid-rmse:10.2149\ttrain-r2:0.700465\tvalid-r2:0.453125\n",
            "[800]\ttrain-rmse:6.75687\tvalid-rmse:10.2146\ttrain-r2:0.701278\tvalid-r2:0.453166\n",
            "[810]\ttrain-rmse:6.74331\tvalid-rmse:10.2158\ttrain-r2:0.702477\tvalid-r2:0.453034\n",
            "[820]\ttrain-rmse:6.73034\tvalid-rmse:10.2154\ttrain-r2:0.70362\tvalid-r2:0.453075\n",
            "[830]\ttrain-rmse:6.71879\tvalid-rmse:10.2139\ttrain-r2:0.704636\tvalid-r2:0.45324\n",
            "[840]\ttrain-rmse:6.71035\tvalid-rmse:10.2139\ttrain-r2:0.705378\tvalid-r2:0.453243\n",
            "[850]\ttrain-rmse:6.69999\tvalid-rmse:10.2143\ttrain-r2:0.706287\tvalid-r2:0.453199\n",
            "[860]\ttrain-rmse:6.69144\tvalid-rmse:10.2135\ttrain-r2:0.707036\tvalid-r2:0.453277\n",
            "[870]\ttrain-rmse:6.68076\tvalid-rmse:10.2134\ttrain-r2:0.707971\tvalid-r2:0.453296\n",
            "[880]\ttrain-rmse:6.67332\tvalid-rmse:10.2127\ttrain-r2:0.70862\tvalid-r2:0.453369\n",
            "[890]\ttrain-rmse:6.66402\tvalid-rmse:10.2146\ttrain-r2:0.709433\tvalid-r2:0.453159\n",
            "[900]\ttrain-rmse:6.65452\tvalid-rmse:10.2134\ttrain-r2:0.71026\tvalid-r2:0.453293\n",
            "[910]\ttrain-rmse:6.64462\tvalid-rmse:10.2121\ttrain-r2:0.711122\tvalid-r2:0.453429\n",
            "[920]\ttrain-rmse:6.63459\tvalid-rmse:10.2113\ttrain-r2:0.711993\tvalid-r2:0.453518\n",
            "[930]\ttrain-rmse:6.62169\tvalid-rmse:10.2128\ttrain-r2:0.713112\tvalid-r2:0.453351\n",
            "[940]\ttrain-rmse:6.61194\tvalid-rmse:10.213\ttrain-r2:0.713956\tvalid-r2:0.45333\n",
            "[950]\ttrain-rmse:6.60258\tvalid-rmse:10.2119\ttrain-r2:0.714765\tvalid-r2:0.45345\n",
            "[960]\ttrain-rmse:6.59221\tvalid-rmse:10.2117\ttrain-r2:0.715661\tvalid-r2:0.453474\n",
            "[970]\ttrain-rmse:6.58233\tvalid-rmse:10.2125\ttrain-r2:0.716512\tvalid-r2:0.453386\n",
            "Stopping. Best iteration:\n",
            "[920]\ttrain-rmse:6.63459\tvalid-rmse:10.2113\ttrain-r2:0.711993\tvalid-r2:0.453518\n",
            "\n"
          ],
          "name": "stdout"
        }
      ]
    },
    {
      "cell_type": "markdown",
      "metadata": {
        "id": "1y90-4QVlo-A"
      },
      "source": [
        "<h3>Making predictions</h3>"
      ]
    },
    {
      "cell_type": "code",
      "metadata": {
        "id": "rhMCbnddkf8g"
      },
      "source": [
        "pred = clf.predict(d_test)"
      ],
      "execution_count": 105,
      "outputs": []
    },
    {
      "cell_type": "code",
      "metadata": {
        "id": "b5iJ6ijylGl8",
        "outputId": "4328ecdb-5f88-4fa5-a6e0-0e64a5a06f5a",
        "colab": {
          "base_uri": "https://localhost:8080/",
          "height": 204
        }
      },
      "source": [
        "final = pd.DataFrame()\n",
        "final['ID'] = id\n",
        "final['y'] = pred\n",
        "final.to_csv('xgb_final.csv', index=False)\n",
        "\n",
        "final.head()"
      ],
      "execution_count": 108,
      "outputs": [
        {
          "output_type": "execute_result",
          "data": {
            "text/html": [
              "<div>\n",
              "<style scoped>\n",
              "    .dataframe tbody tr th:only-of-type {\n",
              "        vertical-align: middle;\n",
              "    }\n",
              "\n",
              "    .dataframe tbody tr th {\n",
              "        vertical-align: top;\n",
              "    }\n",
              "\n",
              "    .dataframe thead th {\n",
              "        text-align: right;\n",
              "    }\n",
              "</style>\n",
              "<table border=\"1\" class=\"dataframe\">\n",
              "  <thead>\n",
              "    <tr style=\"text-align: right;\">\n",
              "      <th></th>\n",
              "      <th>ID</th>\n",
              "      <th>y</th>\n",
              "    </tr>\n",
              "  </thead>\n",
              "  <tbody>\n",
              "    <tr>\n",
              "      <th>0</th>\n",
              "      <td>1</td>\n",
              "      <td>76.355072</td>\n",
              "    </tr>\n",
              "    <tr>\n",
              "      <th>1</th>\n",
              "      <td>2</td>\n",
              "      <td>84.929764</td>\n",
              "    </tr>\n",
              "    <tr>\n",
              "      <th>2</th>\n",
              "      <td>3</td>\n",
              "      <td>81.475983</td>\n",
              "    </tr>\n",
              "    <tr>\n",
              "      <th>3</th>\n",
              "      <td>4</td>\n",
              "      <td>76.932388</td>\n",
              "    </tr>\n",
              "    <tr>\n",
              "      <th>4</th>\n",
              "      <td>5</td>\n",
              "      <td>109.563110</td>\n",
              "    </tr>\n",
              "  </tbody>\n",
              "</table>\n",
              "</div>"
            ],
            "text/plain": [
              "   ID           y\n",
              "0   1   76.355072\n",
              "1   2   84.929764\n",
              "2   3   81.475983\n",
              "3   4   76.932388\n",
              "4   5  109.563110"
            ]
          },
          "metadata": {
            "tags": []
          },
          "execution_count": 108
        }
      ]
    },
    {
      "cell_type": "code",
      "metadata": {
        "id": "ICbIEWWulQ92"
      },
      "source": [
        ""
      ],
      "execution_count": null,
      "outputs": []
    }
  ]
}